{
  "cells": [
    {
      "cell_type": "code",
      "execution_count": null,
      "metadata": {
        "id": "qpwjk1daVFhK"
      },
      "outputs": [],
      "source": [
        "import numpy as np\n",
        "import pandas as pd\n",
        "import os\n",
        "import tensorflow as tf\n",
        "import matplotlib.pylab as plt\n",
        "import cv2\n",
        "import shutil\n",
        "from IPython.display import clear_output"
      ]
    },
    {
      "cell_type": "code",
      "execution_count": null,
      "metadata": {
        "id": "Wb8J2sPdVz8a"
      },
      "outputs": [],
      "source": [
        "import warnings\n",
        "\n",
        "# Disable all warnings\n",
        "warnings.filterwarnings(\"ignore\")"
      ]
    },
    {
      "cell_type": "markdown",
      "metadata": {
        "id": "NGqoJYzsBbsq"
      },
      "source": [
        "## Pytorch"
      ]
    },
    {
      "cell_type": "code",
      "source": [
        "import torch\n",
        "import torch.nn as nn\n",
        "import torch.nn.functional as F\n",
        "import torch.optim as optim\n",
        "import torchvision.datasets as datasets\n",
        "import torchvision.transforms as transforms"
      ],
      "metadata": {
        "id": "RZTo3_DBPSfu"
      },
      "execution_count": null,
      "outputs": []
    },
    {
      "cell_type": "markdown",
      "source": [
        "Classes and Functions defined"
      ],
      "metadata": {
        "id": "NwS7-B9ln8p4"
      }
    },
    {
      "cell_type": "code",
      "source": [
        "# Class to flatten the imaege when it downloads\n",
        "class FlattenImage:\n",
        "    def __call__(self,img):\n",
        "        return img.view(-1)"
      ],
      "metadata": {
        "id": "Q1-JJZ7WnFgu"
      },
      "execution_count": null,
      "outputs": []
    },
    {
      "cell_type": "markdown",
      "source": [
        "Creating the data directory and loading the data"
      ],
      "metadata": {
        "id": "JDfrnBdBSife"
      }
    },
    {
      "cell_type": "code",
      "source": [
        "# Path of folders\n",
        "mnist_dir = '/content/MNIST'\n",
        "train_dir = os.path.join(mnist_dir,'train')\n",
        "test_dir = os.path.join(mnist_dir,'test')\n",
        "\n",
        "# making paths\n",
        "if not os.path.isdir(mnist_dir):\n",
        "    os.makedirs(train_dir)\n",
        "    os.mkdir(test_dir)\n",
        "\n",
        "# Setting transforms to the data\n",
        "data_transforms = transforms.Compose(\n",
        "        [\n",
        "        transforms.ToTensor(),      # Transform the data to tensor\n",
        "        transforms.Normalize((0.5,),(0.5,)),     # Normalizing the data\n",
        "        FlattenImage(),\n",
        "        ]\n",
        "    )\n",
        "\n",
        "# Download data\n",
        "mnist_train = datasets.MNIST(root=train_dir, train=True, download=True, transform=data_transforms)\n",
        "mnist_test = datasets.MNIST(root=test_dir, train=False, download=True, transform=data_transforms)\n",
        "\n",
        "# Load data on the system\n",
        "batch_size = 32\n",
        "train_data = torch.utils.data.DataLoader(mnist_train, batch_size = batch_size, shuffle=True)\n",
        "test_data = torch.utils.data.DataLoader(mnist_test, shuffle=True)\n",
        "\n",
        "# shape of the data\n",
        "train_example = iter(train_data)\n",
        "train_example, train_target = next(train_example)\n",
        "print(f'The shape of the training data is {train_example.shape}')\n",
        "print(f'The target of the chosen example is {train_target}', end='\\n\\n')\n",
        "\n",
        "test_example = iter(test_data)\n",
        "test_example, test_target = next(test_example)\n",
        "print(f'The shape of the test data is {test_example.shape}')\n",
        "print(f'The target of the test example is {test_target}')\n"
      ],
      "metadata": {
        "id": "fVy1lFmyQDG-",
        "colab": {
          "base_uri": "https://localhost:8080/"
        },
        "outputId": "8f4fbdfb-195b-4974-9567-7eea040bbd18"
      },
      "execution_count": null,
      "outputs": [
        {
          "output_type": "stream",
          "name": "stdout",
          "text": [
            "Downloading http://yann.lecun.com/exdb/mnist/train-images-idx3-ubyte.gz\n",
            "Downloading http://yann.lecun.com/exdb/mnist/train-images-idx3-ubyte.gz to /content/MNIST/train/MNIST/raw/train-images-idx3-ubyte.gz\n"
          ]
        },
        {
          "output_type": "stream",
          "name": "stderr",
          "text": [
            "100%|██████████| 9912422/9912422 [00:00<00:00, 133407278.30it/s]"
          ]
        },
        {
          "output_type": "stream",
          "name": "stdout",
          "text": [
            "Extracting /content/MNIST/train/MNIST/raw/train-images-idx3-ubyte.gz to /content/MNIST/train/MNIST/raw\n"
          ]
        },
        {
          "output_type": "stream",
          "name": "stderr",
          "text": [
            "\n"
          ]
        },
        {
          "output_type": "stream",
          "name": "stdout",
          "text": [
            "\n",
            "Downloading http://yann.lecun.com/exdb/mnist/train-labels-idx1-ubyte.gz\n",
            "Downloading http://yann.lecun.com/exdb/mnist/train-labels-idx1-ubyte.gz to /content/MNIST/train/MNIST/raw/train-labels-idx1-ubyte.gz\n"
          ]
        },
        {
          "output_type": "stream",
          "name": "stderr",
          "text": [
            "100%|██████████| 28881/28881 [00:00<00:00, 110828631.13it/s]\n"
          ]
        },
        {
          "output_type": "stream",
          "name": "stdout",
          "text": [
            "Extracting /content/MNIST/train/MNIST/raw/train-labels-idx1-ubyte.gz to /content/MNIST/train/MNIST/raw\n",
            "\n",
            "Downloading http://yann.lecun.com/exdb/mnist/t10k-images-idx3-ubyte.gz\n",
            "Downloading http://yann.lecun.com/exdb/mnist/t10k-images-idx3-ubyte.gz to /content/MNIST/train/MNIST/raw/t10k-images-idx3-ubyte.gz\n"
          ]
        },
        {
          "output_type": "stream",
          "name": "stderr",
          "text": [
            "100%|██████████| 1648877/1648877 [00:00<00:00, 46428154.03it/s]"
          ]
        },
        {
          "output_type": "stream",
          "name": "stdout",
          "text": [
            "Extracting /content/MNIST/train/MNIST/raw/t10k-images-idx3-ubyte.gz to /content/MNIST/train/MNIST/raw\n"
          ]
        },
        {
          "output_type": "stream",
          "name": "stderr",
          "text": [
            "\n"
          ]
        },
        {
          "output_type": "stream",
          "name": "stdout",
          "text": [
            "\n",
            "Downloading http://yann.lecun.com/exdb/mnist/t10k-labels-idx1-ubyte.gz\n",
            "Downloading http://yann.lecun.com/exdb/mnist/t10k-labels-idx1-ubyte.gz to /content/MNIST/train/MNIST/raw/t10k-labels-idx1-ubyte.gz\n"
          ]
        },
        {
          "output_type": "stream",
          "name": "stderr",
          "text": [
            "100%|██████████| 4542/4542 [00:00<00:00, 18549687.21it/s]\n"
          ]
        },
        {
          "output_type": "stream",
          "name": "stdout",
          "text": [
            "Extracting /content/MNIST/train/MNIST/raw/t10k-labels-idx1-ubyte.gz to /content/MNIST/train/MNIST/raw\n",
            "\n",
            "Downloading http://yann.lecun.com/exdb/mnist/train-images-idx3-ubyte.gz\n",
            "Downloading http://yann.lecun.com/exdb/mnist/train-images-idx3-ubyte.gz to /content/MNIST/test/MNIST/raw/train-images-idx3-ubyte.gz\n"
          ]
        },
        {
          "output_type": "stream",
          "name": "stderr",
          "text": [
            "100%|██████████| 9912422/9912422 [00:00<00:00, 136606279.16it/s]"
          ]
        },
        {
          "output_type": "stream",
          "name": "stdout",
          "text": [
            "Extracting /content/MNIST/test/MNIST/raw/train-images-idx3-ubyte.gz to /content/MNIST/test/MNIST/raw\n"
          ]
        },
        {
          "output_type": "stream",
          "name": "stderr",
          "text": [
            "\n"
          ]
        },
        {
          "output_type": "stream",
          "name": "stdout",
          "text": [
            "\n",
            "Downloading http://yann.lecun.com/exdb/mnist/train-labels-idx1-ubyte.gz\n",
            "Downloading http://yann.lecun.com/exdb/mnist/train-labels-idx1-ubyte.gz to /content/MNIST/test/MNIST/raw/train-labels-idx1-ubyte.gz\n"
          ]
        },
        {
          "output_type": "stream",
          "name": "stderr",
          "text": [
            "100%|██████████| 28881/28881 [00:00<00:00, 102138021.77it/s]\n"
          ]
        },
        {
          "output_type": "stream",
          "name": "stdout",
          "text": [
            "Extracting /content/MNIST/test/MNIST/raw/train-labels-idx1-ubyte.gz to /content/MNIST/test/MNIST/raw\n",
            "\n",
            "Downloading http://yann.lecun.com/exdb/mnist/t10k-images-idx3-ubyte.gz\n",
            "Downloading http://yann.lecun.com/exdb/mnist/t10k-images-idx3-ubyte.gz to /content/MNIST/test/MNIST/raw/t10k-images-idx3-ubyte.gz\n"
          ]
        },
        {
          "output_type": "stream",
          "name": "stderr",
          "text": [
            "100%|██████████| 1648877/1648877 [00:00<00:00, 38245477.20it/s]\n"
          ]
        },
        {
          "output_type": "stream",
          "name": "stdout",
          "text": [
            "Extracting /content/MNIST/test/MNIST/raw/t10k-images-idx3-ubyte.gz to /content/MNIST/test/MNIST/raw\n",
            "\n",
            "Downloading http://yann.lecun.com/exdb/mnist/t10k-labels-idx1-ubyte.gz\n",
            "Downloading http://yann.lecun.com/exdb/mnist/t10k-labels-idx1-ubyte.gz to /content/MNIST/test/MNIST/raw/t10k-labels-idx1-ubyte.gz\n"
          ]
        },
        {
          "output_type": "stream",
          "name": "stderr",
          "text": [
            "100%|██████████| 4542/4542 [00:00<00:00, 19659988.41it/s]\n"
          ]
        },
        {
          "output_type": "stream",
          "name": "stdout",
          "text": [
            "Extracting /content/MNIST/test/MNIST/raw/t10k-labels-idx1-ubyte.gz to /content/MNIST/test/MNIST/raw\n",
            "\n",
            "The shape of the training data is torch.Size([32, 784])\n",
            "The target of the chosen example is tensor([0, 8, 5, 0, 5, 7, 3, 6, 7, 2, 3, 6, 4, 9, 6, 1, 6, 9, 1, 9, 9, 3, 9, 9,\n",
            "        8, 9, 0, 0, 7, 3, 3, 9])\n",
            "\n",
            "The shape of the test data is torch.Size([1, 784])\n",
            "The target of the test example is tensor([9])\n"
          ]
        }
      ]
    },
    {
      "cell_type": "markdown",
      "source": [
        "Auto Encoder model"
      ],
      "metadata": {
        "id": "odClfWcOkkWP"
      }
    },
    {
      "cell_type": "code",
      "source": [
        "class AutoEncoder(nn.Module):\n",
        "    def __init__(self):\n",
        "        super(AutoEncoder, self).__init__()\n",
        "        self.encode1 = nn.Linear(784,512)\n",
        "        self.encode2 = nn.Linear(512,128)\n",
        "        self.encode3 = nn.Linear(128,32)\n",
        "        self.encode4 = nn.Linear(32,10)\n",
        "\n",
        "        self.decoder = nn.Sequential(\n",
        "            nn.Linear(10,32),\n",
        "            nn.Tanh(), # ====> nn.Tanh are used in this kind of situation\n",
        "            nn.Linear(32,128),\n",
        "            nn.Tanh(),\n",
        "            nn.Linear(128,512),\n",
        "            nn.Tanh(),\n",
        "            nn.Linear(512,784),\n",
        "            nn.Sigmoid()\n",
        "            )\n",
        "\n",
        "    def forward(self,x):\n",
        "        # x = x.view(-1, 28*28) # You can reshape the data from here or when downloading them\n",
        "        x = self.encode1(x)\n",
        "        x = F.tanh(F.relu(self.encode2(x))) # ====> F.tanh are used when there is an input to put it in\n",
        "        x = F.tanh(F.relu(self.encode3(x)))\n",
        "        encoded = F.tanh(self.encode4(x))\n",
        "        decoded = self.decoder(encoded)\n",
        "        return decoded\n",
        "\n",
        "device = torch.device('cuda' if torch.cuda.is_available else 'cpu')"
      ],
      "metadata": {
        "id": "EC4pnHYdSAwT"
      },
      "execution_count": null,
      "outputs": []
    },
    {
      "cell_type": "markdown",
      "source": [
        "Creating a custom Cost funtion\n"
      ],
      "metadata": {
        "id": "fTQe3QuD-MWQ"
      }
    },
    {
      "cell_type": "code",
      "source": [
        "class WeightedLoss(nn.Module):\n",
        "    def __init__(self, weights):\n",
        "        super(WeightedLoss, self).__init__()\n",
        "        self.weights = weights\n",
        "\n",
        "    def forward(self, predictions,input, targets):\n",
        "        grad = (predictions - input)**2\n",
        "        loss = torch.matmul(grad,self.weights.t())\n",
        "        loss = torch.sum(loss)/len(targets)\n",
        "        loss = loss / predictions.shape[1]\n",
        "        return loss\n",
        "\n",
        "class Weights:\n",
        "    def __init__(self, image,target):\n",
        "        self.image = image\n",
        "        self.target = target\n",
        "        self.weights = self.calc_weight()\n",
        "\n",
        "    def calc_weight(self):\n",
        "\n",
        "        weights_same = []\n",
        "        weights_not = []\n",
        "        for p in range(28*28):\n",
        "            sam_num, not_num = 0, 0\n",
        "            for i in range(10):\n",
        "                f_value_same = self.image[self.target==i,p]\n",
        "                val1_same, val2_same = torch.meshgrid(f_value_same, f_value_same)\n",
        "                sub_matrix_same = torch.exp(-(val1_same - val2_same)**2)\n",
        "                sub_vals_same = torch.triu(sub_matrix_same, diagonal=1)\n",
        "                sam_num += sum(range(len(sub_matrix_same)))\n",
        "\n",
        "                f_value_not = self.image[self.target!=i,p]\n",
        "                val1_not, val2_not = torch.meshgrid(f_value_not, f_value_not)\n",
        "                sub_matrix_not = 1 - torch.exp(-(val1_not - val2_not)**2)\n",
        "                sub_vals_not = torch.triu(sub_matrix_not, diagonal=1)\n",
        "                not_num += sum(range(len(sub_matrix_not)))\n",
        "\n",
        "            weights_same.append(torch.sum(sub_vals_same) / sam_num)\n",
        "            weights_not.append(torch.sum(sub_vals_not) / not_num)\n",
        "\n",
        "        self.weights_same = torch.tensor(weights_same)\n",
        "        self.weights_not = torch.tensor(weights_not)\n",
        "        return self.weights_same * self.weights_not\n",
        "\n",
        "\n",
        "\n",
        "\n",
        "\n",
        "\n"
      ],
      "metadata": {
        "id": "hSNrWExYvAoQ"
      },
      "execution_count": null,
      "outputs": []
    },
    {
      "cell_type": "markdown",
      "source": [
        "Extract all weights"
      ],
      "metadata": {
        "id": "VVvMyJjR-XOG"
      }
    },
    {
      "cell_type": "code",
      "source": [
        "from tqdm import trange, tqdm"
      ],
      "metadata": {
        "id": "j71-W8p-BO8z"
      },
      "execution_count": null,
      "outputs": []
    },
    {
      "cell_type": "code",
      "source": [
        "all_weights = torch.zeros(len(train_data),28*28)\n",
        "td = iter(train_data)\n",
        "# Providing range for printing the progress\n",
        "pbar = trange(int(len(train_data)), desc=\"Extracting Weights\", unit=\"batch\")\n",
        "for i in pbar:\n",
        "    (input,target) = next(td)\n",
        "    weights = Weights(input,target).weights\n",
        "    all_weights[i,:] = weights\n",
        "torch.save(all_weights, '/content/drive/MyDrive/Kalhor/e1q3_weights.pt')"
      ],
      "metadata": {
        "id": "4L65te4Oc7e0",
        "colab": {
          "base_uri": "https://localhost:8080/"
        },
        "outputId": "d45f5211-77a4-43cb-dc18-2e7655ebe2b8"
      },
      "execution_count": null,
      "outputs": [
        {
          "output_type": "stream",
          "name": "stderr",
          "text": [
            "Extracting Weights: 100%|██████████| 1875/1875 [48:21<00:00,  1.55s/batch]\n"
          ]
        }
      ]
    },
    {
      "cell_type": "markdown",
      "source": [
        "Loading saved weights"
      ],
      "metadata": {
        "id": "fCsWsHzU1hux"
      }
    },
    {
      "cell_type": "code",
      "source": [
        "training_weights = torch.load('/content/drive/MyDrive/Kalhor/e1q3_weights.pt')\n",
        "training_weights = training_weights.to(device)"
      ],
      "metadata": {
        "id": "qhLIlaUYqcjv"
      },
      "execution_count": null,
      "outputs": []
    },
    {
      "cell_type": "code",
      "source": [
        "image = training_weights[1000]\n",
        "image = image.reshape(28,28)\n",
        "plt.imshow(image, cmap = 'gray')"
      ],
      "metadata": {
        "colab": {
          "base_uri": "https://localhost:8080/",
          "height": 447
        },
        "id": "R3Gi91zUa2C0",
        "outputId": "cb99c678-2668-4f88-8897-0583fea986e8"
      },
      "execution_count": null,
      "outputs": [
        {
          "output_type": "execute_result",
          "data": {
            "text/plain": [
              "<matplotlib.image.AxesImage at 0x7b45cb890a00>"
            ]
          },
          "metadata": {},
          "execution_count": 11
        },
        {
          "output_type": "display_data",
          "data": {
            "text/plain": [
              "<Figure size 640x480 with 1 Axes>"
            ],
            "image/png": "[encoded data removed]"
          },
          "metadata": {}
        }
      ]
    },
    {
      "cell_type": "markdown",
      "source": [
        "compiling the model"
      ],
      "metadata": {
        "id": "BMV3x8bH-Qpn"
      }
    },
    {
      "cell_type": "code",
      "source": [
        "autoencoder = AutoEncoder().to(device)\n",
        "criterion_l2 = nn.MSELoss()\n",
        "criterion = WeightedLoss(training_weights)\n",
        "optimizer = optim.SGD(autoencoder.parameters(), lr=0.01)"
      ],
      "metadata": {
        "id": "VGAk6HwF6W1B"
      },
      "execution_count": null,
      "outputs": []
    },
    {
      "cell_type": "markdown",
      "source": [
        "Train the model"
      ],
      "metadata": {
        "id": "yAtvsrRF5W6H"
      }
    },
    {
      "cell_type": "code",
      "source": [
        "epochs = 30\n",
        "Loss = []\n",
        "for epoch in range(epochs):\n",
        "\n",
        "    l = []\n",
        "    pbar = tqdm(enumerate(train_data), total=len(train_data), desc=f'Epoch {epoch+1}/{epochs}', position=0)\n",
        "    for i,(input, target) in pbar:\n",
        "\n",
        "        input, target = input.to(device), target.to(device)\n",
        "        optimizer.zero_grad()\n",
        "        predictions = autoencoder(input)\n",
        "        loss1 = criterion(predictions, input,target)\n",
        "        mae = criterion_l2(predictions,input)\n",
        "        loss =loss1 + mae\n",
        "        loss.backward()\n",
        "        optimizer.step()\n",
        "        pbar.set_description(f'Epoch {epoch+1}/{epochs}, Loss: {loss.item():.4f}, mse: {mae:.4f}, loss_main: {loss1:.4f}')\n",
        "    Loss.append(loss.cpu().detach().numpy())\n",
        "    pbar.close()"
      ],
      "metadata": {
        "id": "wGFxOBKm6a5Q",
        "colab": {
          "base_uri": "https://localhost:8080/"
        },
        "outputId": "e94291be-edd6-4c56-bac2-47a2d768f094"
      },
      "execution_count": null,
      "outputs": [
        {
          "output_type": "stream",
          "name": "stderr",
          "text": [
            "Epoch 1/30, Loss: 2.7669, mse: 1.0606, loss_main: 1.7063: 100%|██████████| 1875/1875 [00:27<00:00, 68.80it/s]\n",
            "Epoch 2/30, Loss: 2.6338, mse: 0.9637, loss_main: 1.6701: 100%|██████████| 1875/1875 [00:25<00:00, 72.18it/s]\n",
            "Epoch 3/30, Loss: 2.6182, mse: 0.9478, loss_main: 1.6705: 100%|██████████| 1875/1875 [00:27<00:00, 68.55it/s]\n",
            "Epoch 4/30, Loss: 2.6091, mse: 0.9414, loss_main: 1.6676: 100%|██████████| 1875/1875 [00:26<00:00, 69.60it/s]\n",
            "Epoch 5/30, Loss: 2.6036, mse: 0.9386, loss_main: 1.6650: 100%|██████████| 1875/1875 [00:25<00:00, 73.34it/s]\n",
            "Epoch 6/30, Loss: 2.5831, mse: 0.9332, loss_main: 1.6498: 100%|██████████| 1875/1875 [00:25<00:00, 73.02it/s]\n",
            "Epoch 7/30, Loss: 2.6125, mse: 0.9371, loss_main: 1.6754: 100%|██████████| 1875/1875 [00:25<00:00, 73.91it/s]\n",
            "Epoch 8/30, Loss: 2.5625, mse: 0.9258, loss_main: 1.6368: 100%|██████████| 1875/1875 [00:25<00:00, 72.77it/s]\n",
            "Epoch 9/30, Loss: 2.5702, mse: 0.9263, loss_main: 1.6439: 100%|██████████| 1875/1875 [00:25<00:00, 72.68it/s]\n",
            "Epoch 10/30, Loss: 2.6039, mse: 0.9340, loss_main: 1.6699: 100%|██████████| 1875/1875 [00:25<00:00, 72.64it/s]\n",
            "Epoch 11/30, Loss: 2.5703, mse: 0.9273, loss_main: 1.6430: 100%|██████████| 1875/1875 [00:26<00:00, 71.94it/s]\n",
            "Epoch 12/30, Loss: 2.5743, mse: 0.9276, loss_main: 1.6467: 100%|██████████| 1875/1875 [00:26<00:00, 72.08it/s]\n",
            "Epoch 13/30, Loss: 2.5855, mse: 0.9294, loss_main: 1.6561: 100%|██████████| 1875/1875 [00:25<00:00, 72.46it/s]\n",
            "Epoch 14/30, Loss: 2.5910, mse: 0.9286, loss_main: 1.6624: 100%|██████████| 1875/1875 [00:25<00:00, 73.05it/s]\n",
            "Epoch 15/30, Loss: 2.5944, mse: 0.9300, loss_main: 1.6644: 100%|██████████| 1875/1875 [00:25<00:00, 73.32it/s]\n",
            "Epoch 16/30, Loss: 2.6007, mse: 0.9322, loss_main: 1.6685: 100%|██████████| 1875/1875 [00:25<00:00, 72.81it/s]\n",
            "Epoch 17/30, Loss: 2.5868, mse: 0.9292, loss_main: 1.6576: 100%|██████████| 1875/1875 [00:25<00:00, 73.48it/s]\n",
            "Epoch 18/30, Loss: 2.5748, mse: 0.9258, loss_main: 1.6490: 100%|██████████| 1875/1875 [00:25<00:00, 72.64it/s]\n",
            "Epoch 19/30, Loss: 2.5598, mse: 0.9226, loss_main: 1.6372: 100%|██████████| 1875/1875 [00:26<00:00, 71.82it/s]\n",
            "Epoch 20/30, Loss: 2.6027, mse: 0.9312, loss_main: 1.6715: 100%|██████████| 1875/1875 [00:26<00:00, 71.74it/s]\n",
            "Epoch 21/30, Loss: 2.5959, mse: 0.9300, loss_main: 1.6658: 100%|██████████| 1875/1875 [00:25<00:00, 73.18it/s]\n",
            "Epoch 22/30, Loss: 2.5652, mse: 0.9240, loss_main: 1.6413: 100%|██████████| 1875/1875 [00:25<00:00, 73.35it/s]\n",
            "Epoch 23/30, Loss: 2.5925, mse: 0.9278, loss_main: 1.6647: 100%|██████████| 1875/1875 [00:25<00:00, 72.84it/s]\n",
            "Epoch 24/30, Loss: 2.5757, mse: 0.9256, loss_main: 1.6501: 100%|██████████| 1875/1875 [00:25<00:00, 72.23it/s]\n",
            "Epoch 25/30, Loss: 2.5744, mse: 0.9249, loss_main: 1.6495: 100%|██████████| 1875/1875 [00:25<00:00, 73.82it/s]\n",
            "Epoch 26/30, Loss: 2.5825, mse: 0.9279, loss_main: 1.6546: 100%|██████████| 1875/1875 [00:25<00:00, 73.69it/s]\n",
            "Epoch 27/30, Loss: 2.5810, mse: 0.9268, loss_main: 1.6542: 100%|██████████| 1875/1875 [00:25<00:00, 72.76it/s]\n",
            "Epoch 28/30, Loss: 2.5837, mse: 0.9270, loss_main: 1.6567: 100%|██████████| 1875/1875 [00:25<00:00, 72.51it/s]\n",
            "Epoch 29/30, Loss: 2.5668, mse: 0.9244, loss_main: 1.6425: 100%|██████████| 1875/1875 [00:25<00:00, 73.02it/s]\n",
            "Epoch 30/30, Loss: 2.5762, mse: 0.9268, loss_main: 1.6494: 100%|██████████| 1875/1875 [00:25<00:00, 72.67it/s]\n"
          ]
        }
      ]
    },
    {
      "cell_type": "code",
      "source": [
        "plt.plot(Loss)\n",
        "plt.yscale('log')\n",
        "plt.title('Loss')\n",
        "plt.xlabel('Epochs')"
      ],
      "metadata": {
        "colab": {
          "base_uri": "https://localhost:8080/",
          "height": 489
        },
        "id": "8wl8Buum2dAT",
        "outputId": "28a6e455-8a5f-47f2-c994-5b3497b445ed"
      },
      "execution_count": null,
      "outputs": [
        {
          "output_type": "execute_result",
          "data": {
            "text/plain": [
              "Text(0.5, 0, 'Epochs')"
            ]
          },
          "metadata": {},
          "execution_count": 61
        },
        {
          "output_type": "display_data",
          "data": {
            "text/plain": [
              "<Figure size 640x480 with 1 Axes>"
            ],
            "image/png": "[encoded data removed]"
          },
          "metadata": {}
        }
      ]
    },
    {
      "cell_type": "markdown",
      "source": [
        "Extracting features from final encodeing layer"
      ],
      "metadata": {
        "id": "RKEFK9UmB270"
      }
    },
    {
      "cell_type": "code",
      "source": [
        "feature_train = torch.utils.data.DataLoader(mnist_train, shuffle=True)"
      ],
      "metadata": {
        "id": "TH1ZPfG8AChw"
      },
      "execution_count": null,
      "outputs": []
    },
    {
      "cell_type": "code",
      "source": [
        "train_features = torch.zeros(size=(60000,10))\n",
        "test_features = torch.zeros(size=(10000,10))\n",
        "with torch.no_grad():\n",
        "\n",
        "    pbar = tqdm (enumerate(test_data), total = len(test_data))\n",
        "    for i, (input,_) in pbar:\n",
        "\n",
        "        x = input.to(device)\n",
        "        x = autoencoder.encode1(x)\n",
        "        x = F.tanh(F.relu(autoencoder.encode2(x)))\n",
        "        x = F.tanh(F.relu(autoencoder.encode3(x)))\n",
        "        encoded = F.tanh(autoencoder.encode4(x))\n",
        "        test_features[i]= encoded\n",
        "    pbar.close()\n",
        "\n",
        "    pbar = tqdm(enumerate(feature_train), total=len(feature_train))\n",
        "    for i, (input,_) in pbar:\n",
        "\n",
        "        x = input.to(device)\n",
        "        x = autoencoder.encode1(x)\n",
        "        x = F.tanh(F.relu(autoencoder.encode2(x)))\n",
        "        x = F.tanh(F.relu(autoencoder.encode3(x)))\n",
        "        encoded = F.tanh(autoencoder.encode4(x))\n",
        "        train_features[i]= encoded\n"
      ],
      "metadata": {
        "colab": {
          "base_uri": "https://localhost:8080/"
        },
        "id": "5KMj_obO83T0",
        "outputId": "02a7bbcf-c62b-4810-993b-a14f000feb44"
      },
      "execution_count": null,
      "outputs": [
        {
          "output_type": "stream",
          "name": "stderr",
          "text": [
            "100%|██████████| 10000/10000 [00:07<00:00, 1347.69it/s]\n",
            "100%|██████████| 60000/60000 [00:49<00:00, 1224.31it/s]\n"
          ]
        }
      ]
    },
    {
      "cell_type": "markdown",
      "source": [
        "Extracting taget variables"
      ],
      "metadata": {
        "id": "z3Rva5pBFwCC"
      }
    },
    {
      "cell_type": "code",
      "source": [
        "target_train = torch.zeros(size=(len(feature_train),1))\n",
        "fine = tqdm(enumerate(feature_train), total=len(feature_train))\n",
        "for i, (_,t) in fine:\n",
        "\n",
        "    target_train[i] = t\n",
        "fine.close()\n",
        "target_test = torch.zeros(size= (len(test_data),1))\n",
        "fine = tqdm(enumerate(test_data), total=(len(test_data)))\n",
        "for i, (_,t) in fine:\n",
        "\n",
        "    target_test[i] = t\n",
        "fine.close()\n",
        "\n",
        "target_train = target_train.cpu().detach().numpy()\n",
        "target_test = target_test.cpu().detach().numpy()"
      ],
      "metadata": {
        "colab": {
          "base_uri": "https://localhost:8080/"
        },
        "id": "mf5uUODuCojh",
        "outputId": "3d2009a6-b59f-40c6-badc-551700c89a32"
      },
      "execution_count": null,
      "outputs": [
        {
          "output_type": "stream",
          "name": "stderr",
          "text": [
            "100%|██████████| 60000/60000 [00:30<00:00, 1936.98it/s]\n",
            "100%|██████████| 10000/10000 [00:03<00:00, 2902.52it/s]\n"
          ]
        }
      ]
    },
    {
      "cell_type": "code",
      "source": [
        "from sklearn.cluster import KMeans\n",
        "\n",
        "train_cluster = train_features.cpu().detach().numpy()\n",
        "test_cluster = test_features.cpu().detach().numpy()\n",
        "\n",
        "# Choose the number of clusters\n",
        "num_clusters = 10\n",
        "\n",
        "# Apply K-Means clustering\n",
        "kmeans = KMeans(n_clusters=num_clusters, random_state=69)\n",
        "cluster_model = kmeans.fit(train_cluster,target_train)\n",
        "test_score = kmeans.score(test_cluster,target_test)\n"
      ],
      "metadata": {
        "id": "hj1_CoB_-yxm"
      },
      "execution_count": null,
      "outputs": []
    },
    {
      "cell_type": "code",
      "source": [
        "a  = cluster_model.predict(train_cluster)\n",
        "a = a.reshape((-1,1))\n",
        "b = cluster_model.predict(test_cluster)\n",
        "b = b.reshape((-1,1))"
      ],
      "metadata": {
        "id": "Li9pIbpDGZ2q"
      },
      "execution_count": null,
      "outputs": []
    },
    {
      "cell_type": "code",
      "source": [
        "train_score = np.sum(a != target_train)\n",
        "test_score = np.sum(b != target_test)"
      ],
      "metadata": {
        "id": "RXYqrailG6ot"
      },
      "execution_count": null,
      "outputs": []
    }
  ],
  "metadata": {
    "colab": {
      "provenance": [],
      "gpuType": "T4"
    },
    "kernelspec": {
      "display_name": "Python 3",
      "name": "python3"
    },
    "language_info": {
      "name": "python"
    },
    "accelerator": "GPU"
  },
  "nbformat": 4,
  "nbformat_minor": 0
}