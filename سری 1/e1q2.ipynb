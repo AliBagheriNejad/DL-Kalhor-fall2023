{
  "nbformat": 4,
  "nbformat_minor": 0,
  "metadata": {
    "colab": {
      "provenance": []
    },
    "kernelspec": {
      "name": "python3",
      "display_name": "Python 3"
    },
    "language_info": {
      "name": "python"
    }
  },
  "cells": [
    {
      "cell_type": "markdown",
      "source": [
        "Libraries"
      ],
      "metadata": {
        "id": "EBxCiKVKPLoU"
      }
    },
    {
      "cell_type": "code",
      "execution_count": 1,
      "metadata": {
        "id": "s09qXdrQIyto"
      },
      "outputs": [],
      "source": [
        "import numpy as np\n",
        "from sklearn import datasets\n",
        "import matplotlib.pylab as plt\n",
        "import os\n",
        "import tensorflow as tf\n",
        "import pandas as pd\n",
        "from IPython.display import clear_output\n",
        "\n",
        "import torch\n",
        "import torch.nn as nn\n",
        "import torch.optim as optim\n",
        "from torch.utils import data\n"
      ]
    },
    {
      "cell_type": "markdown",
      "source": [
        "Additional Functins and classes"
      ],
      "metadata": {
        "id": "A_fl4VNEPR5j"
      }
    },
    {
      "cell_type": "code",
      "source": [
        "def fix_cats(df,show=False):\n",
        "    '''\n",
        "\n",
        "    Function that will Create dummy features for the given datafreame.\n",
        "\n",
        "    It turns features with non-number intput into columuns containig\n",
        "    0s and 1s for each class in the feature.\n",
        "\n",
        "    Example:\n",
        "\n",
        "    Feature   ==>    class A   |    class B    |   class C\n",
        "    -----------------------------------------------------------\n",
        "    A          |       1       |       0       |       0\n",
        "    B          |       0       |       1       |       0\n",
        "    A          |       1       |       0       |       0\n",
        "    B          |       0       |       1       |       0\n",
        "    C          |       0       |       0       |       1\n",
        "    A          |       1       |       0       |       0\n",
        "    C          |       0       |       0       |       1\n",
        "    C          |       0       |       0       |       1\n",
        "    A          |       1       |       0       |       0\n",
        "    B          |       0       |       1       |       0\n",
        "\n",
        "    '''\n",
        "    from sklearn import preprocessing\n",
        "    le = preprocessing.LabelEncoder()\n",
        "\n",
        "    df_new = df.copy()\n",
        "    columns = list(df_new.columns)\n",
        "\n",
        "\n",
        "    categoricals = []\n",
        "\n",
        "    # Looping through all features\n",
        "    for i,col in enumerate(columns):\n",
        "        # Getting categorical feature\n",
        "        if df_new[col].dtype==\"object\":\n",
        "            categoricals.append(str(col))\n",
        "\n",
        "            # Encoding feature with only 2 classes\n",
        "            if len(df_new[col].unique()) == 2:\n",
        "                df_new[col]= le.fit_transform(df_new[[col]])\n",
        "                # print (le.classes_)\n",
        "            # Creating dummy features\n",
        "            elif len(df_new[col].unique())!=2:\n",
        "                # Creating dummy dataframe for the given column\n",
        "                dummy = pd.get_dummies(df_new[col], dtype='int')\n",
        "                # Adding dummy features to dataset\n",
        "                df_new = pd.concat([df_new,dummy], axis=1)\n",
        "                # Deleting Categorical column\n",
        "                df_new.drop([col], axis=1, inplace=True)\n",
        "\n",
        "            # printing classes\n",
        "            if show:\n",
        "                print (f'feature \"{col}\":')\n",
        "                classes = pd.Series (df[col].unique())\n",
        "                print (classes, end='\\n\\n')\n",
        "\n",
        "\n",
        "\n",
        "\n",
        "    return df_new"
      ],
      "metadata": {
        "id": "KOMSr4EoO8Cd"
      },
      "execution_count": 2,
      "outputs": []
    },
    {
      "cell_type": "code",
      "source": [
        "import warnings\n",
        "\n",
        "# Disable all warnings\n",
        "warnings.filterwarnings(\"ignore\")"
      ],
      "metadata": {
        "id": "RGXsAeJ0TAZs"
      },
      "execution_count": 3,
      "outputs": []
    },
    {
      "cell_type": "markdown",
      "source": [
        "Loading the dataset from scikit learn library"
      ],
      "metadata": {
        "id": "YLpdraCoQ9Xo"
      }
    },
    {
      "cell_type": "code",
      "source": [
        "iris = datasets.load_iris()\n",
        "print(f\"Formation of the data in iris dataset is like:\\n{iris.data[0:5]}\")\n",
        "print(f'Fromation of target in iris dataset is like:\\n{iris.target[0:5]}')\n",
        "print(f'Feature names are: {iris.feature_names}')\n",
        "print(f'Target names are: {iris.target_names}')"
      ],
      "metadata": {
        "id": "dLPuVcjmJv2G",
        "colab": {
          "base_uri": "https://localhost:8080/"
        },
        "outputId": "31e68383-7ad1-4500-ea1f-0a1e7bf23d86"
      },
      "execution_count": 6,
      "outputs": [
        {
          "output_type": "stream",
          "name": "stdout",
          "text": [
            "Formation of the data in iris dataset is like:\n",
            "[[5.1 3.5 1.4 0.2]\n",
            " [4.9 3.  1.4 0.2]\n",
            " [4.7 3.2 1.3 0.2]\n",
            " [4.6 3.1 1.5 0.2]\n",
            " [5.  3.6 1.4 0.2]]\n",
            "Fromation of target in iris dataset is like:\n",
            "[0 0 0 0 0]\n",
            "Feature names are: ['sepal length (cm)', 'sepal width (cm)', 'petal length (cm)', 'petal width (cm)']\n",
            "Target names are: ['setosa' 'versicolor' 'virginica']\n"
          ]
        }
      ]
    },
    {
      "cell_type": "markdown",
      "source": [
        "Creating a dataset out of the raw data"
      ],
      "metadata": {
        "id": "kwKu-0yXLbfF"
      }
    },
    {
      "cell_type": "code",
      "source": [
        "# Creating name of features\n",
        "features = np.concatenate((iris.feature_names,['Target']))\n",
        "features = [name.replace(' (cm)','') if ' (cm)' in name else name for name in features]\n",
        "features = [name.replace(' ','_') if ' ' in name else name for name in features]\n",
        "\n",
        "# Creating data columns\n",
        "l = (len(iris.target))\n",
        "data_columns = np.concatenate((iris.data,np.reshape(iris.target,(l,1))),axis=1)\n",
        "\n",
        "# Creating the dataframe\n",
        "iris_df = pd.DataFrame(data_columns,columns=features)\n",
        "iris_df.Target = iris_df['Target'].astype('int8') # turn Type datatype into integer\n",
        "type_name = iris_df['Target'].copy()\n",
        "for i in range(3):\n",
        "\n",
        "    type_name[type_name==i] = iris.target_names[i]\n",
        "iris_df['Name'] = type_name\n",
        "\n",
        "# showing the dataframe\n",
        "iris_df.head()"
      ],
      "metadata": {
        "colab": {
          "base_uri": "https://localhost:8080/",
          "height": 206
        },
        "id": "jbZhuablLatq",
        "outputId": "ed21f0cc-4551-4135-a09e-e9c6eaf9e87f"
      },
      "execution_count": 12,
      "outputs": [
        {
          "output_type": "execute_result",
          "data": {
            "text/plain": [
              "   sepal_length  sepal_width  petal_length  petal_width  Target    Name\n",
              "0           5.1          3.5           1.4          0.2       0  setosa\n",
              "1           4.9          3.0           1.4          0.2       0  setosa\n",
              "2           4.7          3.2           1.3          0.2       0  setosa\n",
              "3           4.6          3.1           1.5          0.2       0  setosa\n",
              "4           5.0          3.6           1.4          0.2       0  setosa"
            ],
            "text/html": [
              "\n",
              "  <div id=\"df-e500e5c3-38ec-462e-a3ae-29265a044dc4\" class=\"colab-df-container\">\n",
              "    <div>\n",
              "<style scoped>\n",
              "    .dataframe tbody tr th:only-of-type {\n",
              "        vertical-align: middle;\n",
              "    }\n",
              "\n",
              "    .dataframe tbody tr th {\n",
              "        vertical-align: top;\n",
              "    }\n",
              "\n",
              "    .dataframe thead th {\n",
              "        text-align: right;\n",
              "    }\n",
              "</style>\n",
              "<table border=\"1\" class=\"dataframe\">\n",
              "  <thead>\n",
              "    <tr style=\"text-align: right;\">\n",
              "      <th></th>\n",
              "      <th>sepal_length</th>\n",
              "      <th>sepal_width</th>\n",
              "      <th>petal_length</th>\n",
              "      <th>petal_width</th>\n",
              "      <th>Target</th>\n",
              "      <th>Name</th>\n",
              "    </tr>\n",
              "  </thead>\n",
              "  <tbody>\n",
              "    <tr>\n",
              "      <th>0</th>\n",
              "      <td>5.1</td>\n",
              "      <td>3.5</td>\n",
              "      <td>1.4</td>\n",
              "      <td>0.2</td>\n",
              "      <td>0</td>\n",
              "      <td>setosa</td>\n",
              "    </tr>\n",
              "    <tr>\n",
              "      <th>1</th>\n",
              "      <td>4.9</td>\n",
              "      <td>3.0</td>\n",
              "      <td>1.4</td>\n",
              "      <td>0.2</td>\n",
              "      <td>0</td>\n",
              "      <td>setosa</td>\n",
              "    </tr>\n",
              "    <tr>\n",
              "      <th>2</th>\n",
              "      <td>4.7</td>\n",
              "      <td>3.2</td>\n",
              "      <td>1.3</td>\n",
              "      <td>0.2</td>\n",
              "      <td>0</td>\n",
              "      <td>setosa</td>\n",
              "    </tr>\n",
              "    <tr>\n",
              "      <th>3</th>\n",
              "      <td>4.6</td>\n",
              "      <td>3.1</td>\n",
              "      <td>1.5</td>\n",
              "      <td>0.2</td>\n",
              "      <td>0</td>\n",
              "      <td>setosa</td>\n",
              "    </tr>\n",
              "    <tr>\n",
              "      <th>4</th>\n",
              "      <td>5.0</td>\n",
              "      <td>3.6</td>\n",
              "      <td>1.4</td>\n",
              "      <td>0.2</td>\n",
              "      <td>0</td>\n",
              "      <td>setosa</td>\n",
              "    </tr>\n",
              "  </tbody>\n",
              "</table>\n",
              "</div>\n",
              "    <div class=\"colab-df-buttons\">\n",
              "\n",
              "  <div class=\"colab-df-container\">\n",
              "    <button class=\"colab-df-convert\" onclick=\"convertToInteractive('df-e500e5c3-38ec-462e-a3ae-29265a044dc4')\"\n",
              "            title=\"Convert this dataframe to an interactive table.\"\n",
              "            style=\"display:none;\">\n",
              "\n",
              "  <svg xmlns=\"http://www.w3.org/2000/svg\" height=\"24px\" viewBox=\"0 -960 960 960\">\n",
              "    <path d=\"M120-120v-720h720v720H120Zm60-500h600v-160H180v160Zm220 220h160v-160H400v160Zm0 220h160v-160H400v160ZM180-400h160v-160H180v160Zm440 0h160v-160H620v160ZM180-180h160v-160H180v160Zm440 0h160v-160H620v160Z\"/>\n",
              "  </svg>\n",
              "    </button>\n",
              "\n",
              "  <style>\n",
              "    .colab-df-container {\n",
              "      display:flex;\n",
              "      gap: 12px;\n",
              "    }\n",
              "\n",
              "    .colab-df-convert {\n",
              "      background-color: #E8F0FE;\n",
              "      border: none;\n",
              "      border-radius: 50%;\n",
              "      cursor: pointer;\n",
              "      display: none;\n",
              "      fill: #1967D2;\n",
              "      height: 32px;\n",
              "      padding: 0 0 0 0;\n",
              "      width: 32px;\n",
              "    }\n",
              "\n",
              "    .colab-df-convert:hover {\n",
              "      background-color: #E2EBFA;\n",
              "      box-shadow: 0px 1px 2px rgba(60, 64, 67, 0.3), 0px 1px 3px 1px rgba(60, 64, 67, 0.15);\n",
              "      fill: #174EA6;\n",
              "    }\n",
              "\n",
              "    .colab-df-buttons div {\n",
              "      margin-bottom: 4px;\n",
              "    }\n",
              "\n",
              "    [theme=dark] .colab-df-convert {\n",
              "      background-color: #3B4455;\n",
              "      fill: #D2E3FC;\n",
              "    }\n",
              "\n",
              "    [theme=dark] .colab-df-convert:hover {\n",
              "      background-color: #434B5C;\n",
              "      box-shadow: 0px 1px 3px 1px rgba(0, 0, 0, 0.15);\n",
              "      filter: drop-shadow(0px 1px 2px rgba(0, 0, 0, 0.3));\n",
              "      fill: #FFFFFF;\n",
              "    }\n",
              "  </style>\n",
              "\n",
              "    <script>\n",
              "      const buttonEl =\n",
              "        document.querySelector('#df-e500e5c3-38ec-462e-a3ae-29265a044dc4 button.colab-df-convert');\n",
              "      buttonEl.style.display =\n",
              "        google.colab.kernel.accessAllowed ? 'block' : 'none';\n",
              "\n",
              "      async function convertToInteractive(key) {\n",
              "        const element = document.querySelector('#df-e500e5c3-38ec-462e-a3ae-29265a044dc4');\n",
              "        const dataTable =\n",
              "          await google.colab.kernel.invokeFunction('convertToInteractive',\n",
              "                                                    [key], {});\n",
              "        if (!dataTable) return;\n",
              "\n",
              "        const docLinkHtml = 'Like what you see? Visit the ' +\n",
              "          '<a target=\"_blank\" href=https://colab.research.google.com/notebooks/data_table.ipynb>data table notebook</a>'\n",
              "          + ' to learn more about interactive tables.';\n",
              "        element.innerHTML = '';\n",
              "        dataTable['output_type'] = 'display_data';\n",
              "        await google.colab.output.renderOutput(dataTable, element);\n",
              "        const docLink = document.createElement('div');\n",
              "        docLink.innerHTML = docLinkHtml;\n",
              "        element.appendChild(docLink);\n",
              "      }\n",
              "    </script>\n",
              "  </div>\n",
              "\n",
              "\n",
              "<div id=\"df-c9a0633a-46e0-49d9-b779-f384203fc545\">\n",
              "  <button class=\"colab-df-quickchart\" onclick=\"quickchart('df-c9a0633a-46e0-49d9-b779-f384203fc545')\"\n",
              "            title=\"Suggest charts\"\n",
              "            style=\"display:none;\">\n",
              "\n",
              "<svg xmlns=\"http://www.w3.org/2000/svg\" height=\"24px\"viewBox=\"0 0 24 24\"\n",
              "     width=\"24px\">\n",
              "    <g>\n",
              "        <path d=\"M19 3H5c-1.1 0-2 .9-2 2v14c0 1.1.9 2 2 2h14c1.1 0 2-.9 2-2V5c0-1.1-.9-2-2-2zM9 17H7v-7h2v7zm4 0h-2V7h2v10zm4 0h-2v-4h2v4z\"/>\n",
              "    </g>\n",
              "</svg>\n",
              "  </button>\n",
              "\n",
              "<style>\n",
              "  .colab-df-quickchart {\n",
              "      --bg-color: #E8F0FE;\n",
              "      --fill-color: #1967D2;\n",
              "      --hover-bg-color: #E2EBFA;\n",
              "      --hover-fill-color: #174EA6;\n",
              "      --disabled-fill-color: #AAA;\n",
              "      --disabled-bg-color: #DDD;\n",
              "  }\n",
              "\n",
              "  [theme=dark] .colab-df-quickchart {\n",
              "      --bg-color: #3B4455;\n",
              "      --fill-color: #D2E3FC;\n",
              "      --hover-bg-color: #434B5C;\n",
              "      --hover-fill-color: #FFFFFF;\n",
              "      --disabled-bg-color: #3B4455;\n",
              "      --disabled-fill-color: #666;\n",
              "  }\n",
              "\n",
              "  .colab-df-quickchart {\n",
              "    background-color: var(--bg-color);\n",
              "    border: none;\n",
              "    border-radius: 50%;\n",
              "    cursor: pointer;\n",
              "    display: none;\n",
              "    fill: var(--fill-color);\n",
              "    height: 32px;\n",
              "    padding: 0;\n",
              "    width: 32px;\n",
              "  }\n",
              "\n",
              "  .colab-df-quickchart:hover {\n",
              "    background-color: var(--hover-bg-color);\n",
              "    box-shadow: 0 1px 2px rgba(60, 64, 67, 0.3), 0 1px 3px 1px rgba(60, 64, 67, 0.15);\n",
              "    fill: var(--button-hover-fill-color);\n",
              "  }\n",
              "\n",
              "  .colab-df-quickchart-complete:disabled,\n",
              "  .colab-df-quickchart-complete:disabled:hover {\n",
              "    background-color: var(--disabled-bg-color);\n",
              "    fill: var(--disabled-fill-color);\n",
              "    box-shadow: none;\n",
              "  }\n",
              "\n",
              "  .colab-df-spinner {\n",
              "    border: 2px solid var(--fill-color);\n",
              "    border-color: transparent;\n",
              "    border-bottom-color: var(--fill-color);\n",
              "    animation:\n",
              "      spin 1s steps(1) infinite;\n",
              "  }\n",
              "\n",
              "  @keyframes spin {\n",
              "    0% {\n",
              "      border-color: transparent;\n",
              "      border-bottom-color: var(--fill-color);\n",
              "      border-left-color: var(--fill-color);\n",
              "    }\n",
              "    20% {\n",
              "      border-color: transparent;\n",
              "      border-left-color: var(--fill-color);\n",
              "      border-top-color: var(--fill-color);\n",
              "    }\n",
              "    30% {\n",
              "      border-color: transparent;\n",
              "      border-left-color: var(--fill-color);\n",
              "      border-top-color: var(--fill-color);\n",
              "      border-right-color: var(--fill-color);\n",
              "    }\n",
              "    40% {\n",
              "      border-color: transparent;\n",
              "      border-right-color: var(--fill-color);\n",
              "      border-top-color: var(--fill-color);\n",
              "    }\n",
              "    60% {\n",
              "      border-color: transparent;\n",
              "      border-right-color: var(--fill-color);\n",
              "    }\n",
              "    80% {\n",
              "      border-color: transparent;\n",
              "      border-right-color: var(--fill-color);\n",
              "      border-bottom-color: var(--fill-color);\n",
              "    }\n",
              "    90% {\n",
              "      border-color: transparent;\n",
              "      border-bottom-color: var(--fill-color);\n",
              "    }\n",
              "  }\n",
              "</style>\n",
              "\n",
              "  <script>\n",
              "    async function quickchart(key) {\n",
              "      const quickchartButtonEl =\n",
              "        document.querySelector('#' + key + ' button');\n",
              "      quickchartButtonEl.disabled = true;  // To prevent multiple clicks.\n",
              "      quickchartButtonEl.classList.add('colab-df-spinner');\n",
              "      try {\n",
              "        const charts = await google.colab.kernel.invokeFunction(\n",
              "            'suggestCharts', [key], {});\n",
              "      } catch (error) {\n",
              "        console.error('Error during call to suggestCharts:', error);\n",
              "      }\n",
              "      quickchartButtonEl.classList.remove('colab-df-spinner');\n",
              "      quickchartButtonEl.classList.add('colab-df-quickchart-complete');\n",
              "    }\n",
              "    (() => {\n",
              "      let quickchartButtonEl =\n",
              "        document.querySelector('#df-c9a0633a-46e0-49d9-b779-f384203fc545 button');\n",
              "      quickchartButtonEl.style.display =\n",
              "        google.colab.kernel.accessAllowed ? 'block' : 'none';\n",
              "    })();\n",
              "  </script>\n",
              "</div>\n",
              "    </div>\n",
              "  </div>\n"
            ],
            "application/vnd.google.colaboratory.intrinsic+json": {
              "type": "dataframe",
              "variable_name": "iris_df",
              "summary": "{\n  \"name\": \"iris_df\",\n  \"rows\": 150,\n  \"fields\": [\n    {\n      \"column\": \"sepal_length\",\n      \"properties\": {\n        \"dtype\": \"number\",\n        \"std\": 0.828066127977863,\n        \"min\": 4.3,\n        \"max\": 7.9,\n        \"num_unique_values\": 35,\n        \"samples\": [\n          6.2,\n          4.5,\n          5.6\n        ],\n        \"semantic_type\": \"\",\n        \"description\": \"\"\n      }\n    },\n    {\n      \"column\": \"sepal_width\",\n      \"properties\": {\n        \"dtype\": \"number\",\n        \"std\": 0.4358662849366982,\n        \"min\": 2.0,\n        \"max\": 4.4,\n        \"num_unique_values\": 23,\n        \"samples\": [\n          2.3,\n          4.0,\n          3.5\n        ],\n        \"semantic_type\": \"\",\n        \"description\": \"\"\n      }\n    },\n    {\n      \"column\": \"petal_length\",\n      \"properties\": {\n        \"dtype\": \"number\",\n        \"std\": 1.7652982332594662,\n        \"min\": 1.0,\n        \"max\": 6.9,\n        \"num_unique_values\": 43,\n        \"samples\": [\n          6.7,\n          3.8,\n          3.7\n        ],\n        \"semantic_type\": \"\",\n        \"description\": \"\"\n      }\n    },\n    {\n      \"column\": \"petal_width\",\n      \"properties\": {\n        \"dtype\": \"number\",\n        \"std\": 0.7622376689603465,\n        \"min\": 0.1,\n        \"max\": 2.5,\n        \"num_unique_values\": 22,\n        \"samples\": [\n          0.2,\n          1.2,\n          1.3\n        ],\n        \"semantic_type\": \"\",\n        \"description\": \"\"\n      }\n    },\n    {\n      \"column\": \"Target\",\n      \"properties\": {\n        \"dtype\": \"int8\",\n        \"num_unique_values\": 3,\n        \"samples\": [\n          0,\n          1,\n          2\n        ],\n        \"semantic_type\": \"\",\n        \"description\": \"\"\n      }\n    },\n    {\n      \"column\": \"Name\",\n      \"properties\": {\n        \"dtype\": \"category\",\n        \"num_unique_values\": 3,\n        \"samples\": [\n          \"setosa\",\n          \"versicolor\",\n          \"virginica\"\n        ],\n        \"semantic_type\": \"\",\n        \"description\": \"\"\n      }\n    }\n  ]\n}"
            }
          },
          "metadata": {},
          "execution_count": 12
        }
      ]
    },
    {
      "cell_type": "markdown",
      "source": [
        "Distribution of data for some features"
      ],
      "metadata": {
        "id": "YT_9te32Q7sl"
      }
    },
    {
      "cell_type": "code",
      "source": [
        "flower_types = iris.target_names\n",
        "colors = ['red', 'blue', 'green']\n",
        "fig1 = plt.figure()\n",
        "for i in range(3):\n",
        "\n",
        "    plt.scatter(iris_df[iris_df['Name']==flower_types[i]].sepal_width,iris_df[iris_df['Name']==flower_types[i]].sepal_length)\n",
        "\n",
        "plt.legend(flower_types)\n",
        "plt.xlabel('Sepal Width')\n",
        "plt.ylabel('Sepal Length')\n",
        "plt.title('Flowers distribution')\n",
        "\n"
      ],
      "metadata": {
        "colab": {
          "base_uri": "https://localhost:8080/",
          "height": 489
        },
        "id": "KzEuNGGyPNmZ",
        "outputId": "fcd8e314-464a-4cec-eb91-a8bf9ae83340"
      },
      "execution_count": 13,
      "outputs": [
        {
          "output_type": "execute_result",
          "data": {
            "text/plain": [
              "Text(0.5, 1.0, 'Flowers distribution')"
            ]
          },
          "metadata": {},
          "execution_count": 13
        },
        {
          "output_type": "display_data",
          "data": {
            "text/plain": [
              "<Figure size 640x480 with 1 Axes>"
            ],
            "image/png": "[encoded data removed]"
          },
          "metadata": {}
        }
      ]
    },
    {
      "cell_type": "markdown",
      "source": [
        "Pre-processing"
      ],
      "metadata": {
        "id": "fBeK6zR-RP7E"
      }
    },
    {
      "cell_type": "code",
      "source": [
        "from sklearn.preprocessing import StandardScaler\n",
        "# Fixing categorcal feature\n",
        "iris_df1 = fix_cats(iris_df)\n",
        "\n",
        "# Choosing the input for out data\n",
        "X = iris.data\n",
        "t = iris_df1['setosa'].values\n",
        "\n",
        "# # Standardize the features\n",
        "scaler = StandardScaler()\n",
        "X = scaler.fit_transform(X)\n",
        "\n",
        "# Shuffling the date\n",
        "indices = np.arange(len(X))\n",
        "np.random.shuffle(indices)\n",
        "X_shuffled = X[indices]\n",
        "t_shuffled = t[indices]"
      ],
      "metadata": {
        "id": "bY0pQVHCRPPT"
      },
      "execution_count": 14,
      "outputs": []
    },
    {
      "cell_type": "code",
      "source": [
        "from sklearn.model_selection import train_test_split\n",
        "# Split the dataset into training and testing sets\n",
        "X_train_m, X_test_m, y_train_m, y_test_m = train_test_split(X, t, test_size=0.2, random_state=42)"
      ],
      "metadata": {
        "id": "yMJmmrzVIwXm"
      },
      "execution_count": 15,
      "outputs": []
    },
    {
      "cell_type": "markdown",
      "source": [
        "## With numpy"
      ],
      "metadata": {
        "id": "CUjSs_zIY-ky"
      }
    },
    {
      "cell_type": "markdown",
      "source": [
        "Model Training"
      ],
      "metadata": {
        "id": "1u_17KS02jFd"
      }
    },
    {
      "cell_type": "code",
      "source": [
        "# Seed setting\n",
        "np.random.seed(69)\n",
        "\n",
        "# Initialization\n",
        "N_FEATURES = 4\n",
        "W = np.random.rand(1,N_FEATURES)/10 - 0.5/10\n",
        "b = np.random.rand(1)/10 - 0.5/10\n",
        "error = np.array([])\n",
        "\n",
        "for i in range(50):\n",
        "\n",
        "    # Clearing any output to show the error graph\n",
        "    clear_output(wait=True)\n",
        "\n",
        "    # creating an empty array for yhat\n",
        "    y_hat = np.zeros((iris_df.shape[0],))\n",
        "\n",
        "    # Forward\n",
        "    for d in range(iris_df.shape[0]):\n",
        "\n",
        "        x = X[d,:]\n",
        "        Z = np.dot(W,x) + b\n",
        "        y_hat[d] = 1 if Z>=0.5 else 0\n",
        "\n",
        "    # Error\n",
        "    E = t-y_hat\n",
        "    e = 1/2 * np.dot(E,E)\n",
        "    error = np.append(error,e)\n",
        "\n",
        "    # Update rule\n",
        "    dj = np.dot(X.T,E)\n",
        "    W = W + 0.0001*dj\n",
        "    b = b + 0.0001*np.sum(E)\n",
        "\n",
        "    # Plot error per epoch\n",
        "    plt.plot(error,\n",
        "             marker='o',\n",
        "             markerfacecolor = 'red',\n",
        "             color = 'red')\n",
        "    plt.title(f'The Error upto epoch {i}')\n",
        "    plt.ylabel('error')\n",
        "    plt.xlabel('Epoch')\n",
        "    plt.show()\n",
        "\n",
        "\n"
      ],
      "metadata": {
        "id": "lhTuZlXQ_DHY",
        "colab": {
          "base_uri": "https://localhost:8080/",
          "height": 472
        },
        "outputId": "13d38380-bc9a-4f11-f054-42bb4cefc554"
      },
      "execution_count": null,
      "outputs": [
        {
          "output_type": "display_data",
          "data": {
            "text/plain": [
              "<Figure size 640x480 with 1 Axes>"
            ],
            "image/png": "[encoded data removed]"
          },
          "metadata": {}
        }
      ]
    },
    {
      "cell_type": "markdown",
      "source": [
        "Plotting features with the separating line"
      ],
      "metadata": {
        "id": "OLoxyISCklQ4"
      }
    },
    {
      "cell_type": "code",
      "source": [
        "import matplotlib.cm as cm\n",
        "\n",
        "w = W.copy()\n",
        "w = w.reshape((4,))\n",
        "x0 = np.arange(-2,3,0.01)\n",
        "x1 = -w[0]/w[1] * x0 - b/w[1]\n",
        "\n",
        "\n",
        "# plt.scatter(X[:,1],X[:,0])\n",
        "\n",
        "flower_types = iris.target_names\n",
        "colors = ['red', 'blue', 'green']\n",
        "\n",
        "plt.scatter(X[:,0], X[:,1], c=iris_df.Target.values, cmap='Set1')\n",
        "\n",
        "# plt.legend(flower_types)\n",
        "plt.xlabel('Sepal Width')\n",
        "plt.ylabel('Sepal Length')\n",
        "plt.title('Flowers distribution')\n",
        "\n",
        "plt.plot(x1,x0,color='black',linestyle='-.')"
      ],
      "metadata": {
        "colab": {
          "base_uri": "https://localhost:8080/",
          "height": 489
        },
        "id": "Or8-2kEw39BB",
        "outputId": "72d1a9de-a972-408f-fb53-bc2c0aae5ab4"
      },
      "execution_count": null,
      "outputs": [
        {
          "output_type": "execute_result",
          "data": {
            "text/plain": [
              "[<matplotlib.lines.Line2D at 0x7d305c54ffd0>]"
            ]
          },
          "metadata": {},
          "execution_count": 46
        },
        {
          "output_type": "display_data",
          "data": {
            "text/plain": [
              "<Figure size 640x480 with 1 Axes>"
            ],
            "image/png": "[encoded data removed]"
          },
          "metadata": {}
        }
      ]
    },
    {
      "cell_type": "markdown",
      "source": [
        "## With TensorFlow"
      ],
      "metadata": {
        "id": "QvJD9619ZDIL"
      }
    },
    {
      "cell_type": "markdown",
      "source": [
        "Adaline model with TensorFlow"
      ],
      "metadata": {
        "id": "qQgPJ0CmX38r"
      }
    },
    {
      "cell_type": "code",
      "source": [
        "# Adaline Layer\n",
        "class Dense(tf.keras.layers.Layer):\n",
        "    def __init__(self, units):\n",
        "        super(Dense, self).__init__()\n",
        "        self.units = units\n",
        "\n",
        "    def build(self, input_shape):\n",
        "        self.w = self.add_weight(\n",
        "            name=\"w\",\n",
        "            shape=(input_shape[-1], self.units),\n",
        "            initializer=\"random_normal\",\n",
        "            trainable=True,\n",
        "        )\n",
        "        self.b = self.add_weight(\n",
        "            name=\"b\", shape=(self.units,), initializer=\"random_normal\", trainable=True,\n",
        "        )\n",
        "\n",
        "    def call(self, inputs):\n",
        "        return tf.matmul(inputs, self.w) + self.b\n",
        "\n",
        "# Adaline model\n",
        "class AdalineModel1(tf.keras.Model):\n",
        "    def __init__ (self, n_classes=2):\n",
        "        super(AdalineModel1,self).__init__()\n",
        "        self.layer = Dense(1)\n",
        "\n",
        "    def call(self,x):\n",
        "        x = self.layer(x)\n",
        "        return x"
      ],
      "metadata": {
        "id": "0-BhN9z8q9DH"
      },
      "execution_count": 9,
      "outputs": []
    },
    {
      "cell_type": "markdown",
      "source": [
        "Creating callbacks for the model"
      ],
      "metadata": {
        "id": "9I7WkkXNy_0Y"
      }
    },
    {
      "cell_type": "code",
      "source": [
        "from csv import writer\n",
        "import os\n",
        "# Custom Callback\n",
        "class CustomCallback(tf.keras.callbacks.Callback):\n",
        "    def __init__(self):\n",
        "        super(CustomCallback, self).__init__()\n",
        "\n",
        "    def on_train_begin(self,X):\n",
        "        self.train_x = X_shuffled\n",
        "\n",
        "    def on_epoch_end(self, epoch, logs=None):\n",
        "        # Clearing any output to show the error graph\n",
        "        # clear_output(wait=False)\n",
        "        # print(self.train_x.shape)\n",
        "        pass\n",
        "\n",
        "# Early stopping\n",
        "early_stopping = tf.keras.callbacks.EarlyStopping(monitor='loss', patience=3)\n",
        "\n",
        "# Save best weights\n",
        "checkpoint_filepath = '/content/best.h5'\n",
        "model_checkpoint = tf.keras.callbacks.ModelCheckpoint(\n",
        "    filepath=checkpoint_filepath,\n",
        "    monitor='accuracy',\n",
        "    mode='max',\n",
        "    save_best_only=True)\n",
        "\n",
        "# Saving all of the weights in an array\n",
        "class SaveAllWeights(tf.keras.callbacks.Callback):\n",
        "    def __init__(self):\n",
        "        super(SaveAllWeights,self).__init__()\n",
        "\n",
        "    def on_train_begin(self,epoch):\n",
        "\n",
        "        csv_path = 'weights.csv'\n",
        "        try:\n",
        "\n",
        "            os.remove(csv_path)\n",
        "        except:\n",
        "\n",
        "            pass\n",
        "\n",
        "    def on_epoch_end(self,epoch,object):\n",
        "\n",
        "        # Getting the weights\n",
        "        w = self.model.weights[0].numpy()\n",
        "        b = self.model.weights[1].numpy().reshape(1,1)\n",
        "\n",
        "        # Putting the weights together\n",
        "        W = tf.concat([w,b],0)\n",
        "        W = tf.reshape(W,(-1,)).numpy()\n",
        "\n",
        "        with open('weights.csv', 'a') as f_object:\n",
        "\n",
        "            # Pass this file object to csv.writer()\n",
        "            # and get a writer object\n",
        "            writer_object = writer(f_object)\n",
        "\n",
        "            # Pass the list as an argument into\n",
        "            # the writerow()\n",
        "            writer_object.writerow(W)\n",
        "\n",
        "            # Close the file object\n",
        "            f_object.close()\n",
        "\n",
        "\n"
      ],
      "metadata": {
        "id": "OSHISOw8cUwB"
      },
      "execution_count": 24,
      "outputs": []
    },
    {
      "cell_type": "markdown",
      "source": [
        "Train for Setosa"
      ],
      "metadata": {
        "id": "Gmppeu3PY6dn"
      }
    },
    {
      "cell_type": "code",
      "source": [
        "# Deleting the model if exists\n",
        "try:\n",
        "    del model1\n",
        "except:\n",
        "    pass\n",
        "\n",
        "# Defining the model\n",
        "model1 = AdalineModel1()\n",
        "\n",
        "# Compile the model\n",
        "model1.compile(\n",
        "    optimizer=tf.keras.optimizers.SGD(),\n",
        "    loss=tf.keras.losses.BinaryCrossentropy(),\n",
        "    metrics=['accuracy']\n",
        ")\n",
        "\n",
        "# Fitting the model with the given data\n",
        "# model1.fit(X_train_m, y_train_m, epochs=10, batch_size=16, validation_data=(X_test_m, y_test_m))\n",
        "history = model1.fit(X_shuffled, t_shuffled, epochs=150, batch_size=16, callbacks =[SaveAllWeights(), CustomCallback()],verbose=0)"
      ],
      "metadata": {
        "id": "rDbB6y1Fp1-T"
      },
      "execution_count": 25,
      "outputs": []
    },
    {
      "cell_type": "markdown",
      "source": [
        "Train for Virginica"
      ],
      "metadata": {
        "id": "taHrHfDxbOxn"
      }
    },
    {
      "cell_type": "code",
      "source": [
        "# Target data for virginica type\n",
        "t_v = iris_df1['virginica'].values\n",
        "t_v_suffled = t_v[indices]\n",
        "\n",
        "# Splitting for viriginica\n",
        "X_train_v, X_test_v, y_train_v, y_test_v = train_test_split(X, t_v, test_size=0.2, random_state=42)\n",
        "\n",
        "# Deleting the model if exists\n",
        "try:\n",
        "    del model2\n",
        "except:\n",
        "    pass\n",
        "\n",
        "# Defining the model\n",
        "model2 = AdalineModel1()\n",
        "\n",
        "# Compile the model\n",
        "model2.compile(\n",
        "    optimizer=tf.keras.optimizers.SGD(),\n",
        "    loss=tf.keras.losses.BinaryCrossentropy(),\n",
        "    metrics=['accuracy']\n",
        ")\n",
        "\n",
        "# Fitting the model with the given data\n",
        "# model2.fit(X_train_v, y_train_v, epochs=10, batch_size=16, validation_data=(X_test_v, y_test_v))\n",
        "model2.fit(X_shuffled, t_shuffled, epochs=10, batch_size=16)"
      ],
      "metadata": {
        "id": "ZoHJjS97bOlX",
        "colab": {
          "base_uri": "https://localhost:8080/"
        },
        "outputId": "218aabcd-80e6-403b-ba78-fc7c8a35d584"
      },
      "execution_count": 26,
      "outputs": [
        {
          "output_type": "stream",
          "name": "stdout",
          "text": [
            "Epoch 1/10\n",
            "10/10 [==============================] - 0s 3ms/step - loss: 5.1476 - accuracy: 0.6667\n",
            "Epoch 2/10\n",
            "10/10 [==============================] - 0s 3ms/step - loss: 5.1429 - accuracy: 0.6667\n",
            "Epoch 3/10\n",
            "10/10 [==============================] - 0s 3ms/step - loss: 5.1423 - accuracy: 0.6667\n",
            "Epoch 4/10\n",
            "10/10 [==============================] - 0s 3ms/step - loss: 5.1421 - accuracy: 0.6667\n",
            "Epoch 5/10\n",
            "10/10 [==============================] - 0s 2ms/step - loss: 5.1418 - accuracy: 0.6667\n",
            "Epoch 6/10\n",
            "10/10 [==============================] - 0s 3ms/step - loss: 5.1416 - accuracy: 0.6667\n",
            "Epoch 7/10\n",
            "10/10 [==============================] - 0s 3ms/step - loss: 5.1416 - accuracy: 0.6667\n",
            "Epoch 8/10\n",
            "10/10 [==============================] - 0s 3ms/step - loss: 5.1416 - accuracy: 0.6667\n",
            "Epoch 9/10\n",
            "10/10 [==============================] - 0s 3ms/step - loss: 5.1416 - accuracy: 0.6667\n",
            "Epoch 10/10\n",
            "10/10 [==============================] - 0s 3ms/step - loss: 5.1416 - accuracy: 0.6667\n"
          ]
        },
        {
          "output_type": "execute_result",
          "data": {
            "text/plain": [
              "<keras.src.callbacks.History at 0x7861e0701f90>"
            ]
          },
          "metadata": {},
          "execution_count": 26
        }
      ]
    },
    {
      "cell_type": "markdown",
      "source": [
        "## With Pytorch"
      ],
      "metadata": {
        "id": "fUCdO1PMHarp"
      }
    },
    {
      "cell_type": "code",
      "source": [
        "class AdalinePytorch(nn.Module):\n",
        "    def __init__(self, input_size):\n",
        "        super(AdalinePytorch, self).__init__()\n",
        "        self.weights = nn.Parameter(torch.rand(input_size, 1))  # Learnable weight parameter\n",
        "        self.bias = nn.Parameter(torch.zeros(1))  # Learnable bias parameter\n",
        "\n",
        "    def forward(self, x):\n",
        "        # Linear combination (without activation function)\n",
        "        return torch.matmul(x, self.weights) + self.bias\n",
        "\n",
        "def initialize_weights(module):\n",
        "    if isinstance(module, nn.Linear):\n",
        "        nn.init.normal_(module.weights, mean=0, std=0.01)\n",
        "        nn.init.zeros_(module.bias)\n",
        "\n",
        "# Creating torch tensors for train data\n",
        "X_torch = torch.FloatTensor(X)\n",
        "y_torch = torch.FloatTensor(t)\n",
        "dataset = data.TensorDataset(X_torch,y_torch)\n",
        "bs = 8\n",
        "data_loader = data.DataLoader(dataset,batch_size=bs, shuffle=True)\n",
        "\n",
        "# Creating Adaline model\n",
        "device = torch.device(\"cuda\" if torch.cuda.is_available() else \"cpu\") # Setting the device to work on\n",
        "input = 4\n",
        "model3 = AdalinePytorch(input)\n",
        "\n",
        "model3.apply(initialize_weights).to(device)\n",
        "\n",
        "# Loss function\n",
        "criterion = nn.CrossEntropyLoss()\n",
        "optimizer = optim.SGD(model3.parameters(),lr=0.001)\n",
        "\n",
        "Loss = list([])\n",
        "n_epochs = 1000\n",
        "for epoch in range(n_epochs):\n",
        "    # for batch, (X_batch,y_batch) in enumerate(data_loader):\n",
        "\n",
        "        # Exporting the working data to cpu or gpu\n",
        "        # X_batch = X_batch.to(device)\n",
        "        # y_batch = y_batch.to(device)\n",
        "        X_batch = X_torch.to(device)\n",
        "        y_batch = y_torch.to(device)\n",
        "\n",
        "        # Creating y-hat\n",
        "        output = model3(X_batch)\n",
        "\n",
        "        # Computing the loss\n",
        "        loss = criterion(output.squeeze(), y_batch)\n",
        "        Loss.append(loss.detach().numpy() )\n",
        "\n",
        "        # BackPropagation\n",
        "        optimizer.zero_grad() # ==> This method turns all gradients to 0\n",
        "        loss.backward()\n",
        "        optimizer.step()"
      ],
      "metadata": {
        "id": "XGE0otyhHgFz"
      },
      "execution_count": 27,
      "outputs": []
    },
    {
      "cell_type": "markdown",
      "source": [
        "Plotting the loss for model3"
      ],
      "metadata": {
        "id": "2wjvSQ2sXF7v"
      }
    },
    {
      "cell_type": "code",
      "source": [
        "plt.plot(Loss)\n",
        "plt.title('Loss')\n",
        "plt.xlabel('Epochs')\n",
        "plt.yscale('log')\n",
        "plt.grid(True)"
      ],
      "metadata": {
        "colab": {
          "base_uri": "https://localhost:8080/",
          "height": 472
        },
        "id": "wi0I-TXzgiLw",
        "outputId": "415fd1f5-cca0-45f0-8e33-f4564d1a934c"
      },
      "execution_count": 40,
      "outputs": [
        {
          "output_type": "display_data",
          "data": {
            "text/plain": [
              "<Figure size 640x480 with 1 Axes>"
            ],
            "image/png": "[encoded data removed]"
          },
          "metadata": {}
        }
      ]
    },
    {
      "cell_type": "markdown",
      "source": [
        "Testing the performance of the model on the training data"
      ],
      "metadata": {
        "id": "KPecVfAdeMZv"
      }
    },
    {
      "cell_type": "code",
      "source": [
        "with torch.no_grad(): # no_grad is for the model not to calculate gradiants\n",
        "    gradx = X_torch\n",
        "    grady = y_torch\n",
        "\n",
        "    model3.eval()   # Set model to eval so model is not used for training\n",
        "    score = model3(gradx)\n",
        "    prediction = torch.where(score >= 0.5, torch.tensor(1), torch.tensor(0))\n",
        "\n",
        "model3_acc = torch.sum(torch.abs(prediction - y_batch))/len(y_batch)\n",
        "\n",
        "print(f'The accuracy of the model3 for separating setosa is {model3_acc:.3f}%')\n",
        "model3.train() # Setting the model back to training mode"
      ],
      "metadata": {
        "id": "adyJFl8QeMMw",
        "colab": {
          "base_uri": "https://localhost:8080/"
        },
        "outputId": "6bb8c68c-5eb0-4305-d69f-38c09669776e"
      },
      "execution_count": 36,
      "outputs": [
        {
          "output_type": "stream",
          "name": "stdout",
          "text": [
            "The accuracy of the model3 for separating setosa is 67.667%\n"
          ]
        },
        {
          "output_type": "execute_result",
          "data": {
            "text/plain": [
              "AdalinePytorch()"
            ]
          },
          "metadata": {},
          "execution_count": 36
        }
      ]
    },
    {
      "cell_type": "markdown",
      "source": [
        "Saving the trained model"
      ],
      "metadata": {
        "id": "wOZwm9719Wq8"
      }
    },
    {
      "cell_type": "code",
      "source": [
        "path = '/content/pytorch_weights.pht'\n",
        "torch.save(model3.state_dict(), path)"
      ],
      "metadata": {
        "id": "bX17DKlX9WV0"
      },
      "execution_count": null,
      "outputs": []
    },
    {
      "cell_type": "code",
      "source": [
        "abn = torch.load(path) # => This is how you load sth in pyrotch\n",
        "# Because the model in created from scratch, you can not load weights on it"
      ],
      "metadata": {
        "id": "LBPclzk--1QX"
      },
      "execution_count": null,
      "outputs": []
    },
    {
      "cell_type": "code",
      "source": [
        "model3.state_dict()['weights']"
      ],
      "metadata": {
        "colab": {
          "base_uri": "https://localhost:8080/"
        },
        "id": "uLpbf63M92Es",
        "outputId": "8369c4a2-04a8-457c-980e-0b276b724d2f"
      },
      "execution_count": null,
      "outputs": [
        {
          "output_type": "execute_result",
          "data": {
            "text/plain": [
              "tensor([[-0.4645],\n",
              "        [ 0.3805],\n",
              "        [-0.5014],\n",
              "        [-0.7692]])"
            ]
          },
          "metadata": {},
          "execution_count": 73
        }
      ]
    }
  ]
}